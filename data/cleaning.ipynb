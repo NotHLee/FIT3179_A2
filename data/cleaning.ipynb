{
 "cells": [
  {
   "cell_type": "code",
   "execution_count": 3,
   "id": "ffe1f1d3",
   "metadata": {},
   "outputs": [
    {
     "name": "stdout",
     "output_type": "stream",
     "text": [
      "          date pollutant  concentration\n",
      "0   2017-01-01        CO         0.5610\n",
      "1   2017-02-01        CO         0.5300\n",
      "2   2017-03-01        CO         0.5890\n",
      "3   2017-04-01        CO         0.6620\n",
      "4   2017-05-01        CO            NaN\n",
      "..         ...       ...            ...\n",
      "427 2022-08-01       SO2         0.0012\n",
      "428 2022-09-01       SO2         0.0012\n",
      "429 2022-10-01       SO2         0.0012\n",
      "430 2022-11-01       SO2         0.0012\n",
      "431 2022-12-01       SO2         0.0013\n",
      "\n",
      "[432 rows x 3 columns]\n"
     ]
    }
   ],
   "source": [
    "# If not already installed, do: pip install pandas fastparquet\n",
    "import pandas as pd\n",
    "\n",
    "URL_DATA = 'https://storage.data.gov.my/environment/air_pollution.parquet'\n",
    "\n",
    "df = pd.read_parquet(URL_DATA)\n",
    "if 'date' in df.columns: df['date'] = pd.to_datetime(df['date'])\n",
    "\n",
    "print(df)"
   ]
  },
  {
   "cell_type": "code",
   "execution_count": 12,
   "id": "110a1ffc",
   "metadata": {},
   "outputs": [],
   "source": [
    "# split to multiple csv for each pollutant\n",
    "pollutants = df['pollutant'].unique()\n",
    "for pollutant in pollutants:\n",
    "    df[df['pollutant'] == pollutant].to_csv(f'../data/my_{pollutant}_data.csv', index=False)"
   ]
  }
 ],
 "metadata": {
  "kernelspec": {
   "display_name": ".venv (3.12.3)",
   "language": "python",
   "name": "python3"
  },
  "language_info": {
   "codemirror_mode": {
    "name": "ipython",
    "version": 3
   },
   "file_extension": ".py",
   "mimetype": "text/x-python",
   "name": "python",
   "nbconvert_exporter": "python",
   "pygments_lexer": "ipython3",
   "version": "3.12.3"
  }
 },
 "nbformat": 4,
 "nbformat_minor": 5
}
